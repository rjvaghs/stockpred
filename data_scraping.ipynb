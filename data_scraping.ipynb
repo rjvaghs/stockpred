{
 "cells": [
  {
   "cell_type": "code",
   "execution_count": 47,
   "id": "ad6bb2a2",
   "metadata": {},
   "outputs": [
    {
     "name": "stdout",
     "output_type": "stream",
     "text": [
      "Collecting yfinance\n",
      "  Downloading yfinance-0.2.12-py2.py3-none-any.whl (59 kB)\n",
      "Requirement already satisfied: requests>=2.26 in c:\\users\\rahul\\anaconda3\\lib\\site-packages (from yfinance) (2.27.1)\n",
      "Requirement already satisfied: appdirs>=1.4.4 in c:\\users\\rahul\\anaconda3\\lib\\site-packages (from yfinance) (1.4.4)\n",
      "Requirement already satisfied: beautifulsoup4>=4.11.1 in c:\\users\\rahul\\anaconda3\\lib\\site-packages (from yfinance) (4.11.1)\n",
      "Requirement already satisfied: pandas>=1.3.0 in c:\\users\\rahul\\anaconda3\\lib\\site-packages (from yfinance) (1.4.2)\n",
      "Collecting html5lib>=1.1\n",
      "  Downloading html5lib-1.1-py2.py3-none-any.whl (112 kB)\n",
      "Requirement already satisfied: cryptography>=3.3.2 in c:\\users\\rahul\\anaconda3\\lib\\site-packages (from yfinance) (3.4.8)\n",
      "Collecting lxml>=4.9.1\n",
      "  Downloading lxml-4.9.2-cp39-cp39-win_amd64.whl (3.9 MB)\n",
      "Collecting pytz>=2022.5\n",
      "  Using cached pytz-2022.7.1-py2.py3-none-any.whl (499 kB)\n",
      "Requirement already satisfied: numpy>=1.16.5 in c:\\users\\rahul\\anaconda3\\lib\\site-packages (from yfinance) (1.21.5)\n",
      "Collecting frozendict>=2.3.4\n",
      "  Downloading frozendict-2.3.5-cp39-cp39-win_amd64.whl (35 kB)\n",
      "Collecting multitasking>=0.0.7\n",
      "  Downloading multitasking-0.0.11-py3-none-any.whl (8.5 kB)\n",
      "Requirement already satisfied: soupsieve>1.2 in c:\\users\\rahul\\anaconda3\\lib\\site-packages (from beautifulsoup4>=4.11.1->yfinance) (2.3.1)\n",
      "Requirement already satisfied: cffi>=1.12 in c:\\users\\rahul\\anaconda3\\lib\\site-packages (from cryptography>=3.3.2->yfinance) (1.15.0)\n",
      "Requirement already satisfied: pycparser in c:\\users\\rahul\\anaconda3\\lib\\site-packages (from cffi>=1.12->cryptography>=3.3.2->yfinance) (2.21)\n",
      "Requirement already satisfied: webencodings in c:\\users\\rahul\\anaconda3\\lib\\site-packages (from html5lib>=1.1->yfinance) (0.5.1)\n",
      "Requirement already satisfied: six>=1.9 in c:\\users\\rahul\\anaconda3\\lib\\site-packages (from html5lib>=1.1->yfinance) (1.16.0)\n",
      "Requirement already satisfied: python-dateutil>=2.8.1 in c:\\users\\rahul\\anaconda3\\lib\\site-packages (from pandas>=1.3.0->yfinance) (2.8.2)\n",
      "Requirement already satisfied: certifi>=2017.4.17 in c:\\users\\rahul\\anaconda3\\lib\\site-packages (from requests>=2.26->yfinance) (2021.10.8)\n",
      "Requirement already satisfied: idna<4,>=2.5 in c:\\users\\rahul\\anaconda3\\lib\\site-packages (from requests>=2.26->yfinance) (3.3)\n",
      "Requirement already satisfied: urllib3<1.27,>=1.21.1 in c:\\users\\rahul\\anaconda3\\lib\\site-packages (from requests>=2.26->yfinance) (1.26.9)\n",
      "Requirement already satisfied: charset-normalizer~=2.0.0 in c:\\users\\rahul\\anaconda3\\lib\\site-packages (from requests>=2.26->yfinance) (2.0.4)\n",
      "Installing collected packages: pytz, multitasking, lxml, html5lib, frozendict, yfinance\n",
      "  Attempting uninstall: pytz\n",
      "    Found existing installation: pytz 2021.3\n",
      "    Uninstalling pytz-2021.3:\n",
      "      Successfully uninstalled pytz-2021.3\n",
      "  Attempting uninstall: lxml\n",
      "    Found existing installation: lxml 4.8.0\n",
      "    Uninstalling lxml-4.8.0:\n",
      "      Successfully uninstalled lxml-4.8.0\n",
      "Successfully installed frozendict-2.3.5 html5lib-1.1 lxml-4.9.2 multitasking-0.0.11 pytz-2022.7.1 yfinance-0.2.12\n"
     ]
    },
    {
     "name": "stderr",
     "output_type": "stream",
     "text": [
      "ERROR: pip's dependency resolver does not currently take into account all the packages that are installed. This behaviour is the source of the following dependency conflicts.\n",
      "conda-repo-cli 1.0.4 requires pathlib, which is not installed.\n"
     ]
    }
   ],
   "source": [
    "!pip install yfinance"
   ]
  },
  {
   "cell_type": "code",
   "execution_count": 129,
   "id": "8e9b17be",
   "metadata": {},
   "outputs": [],
   "source": [
    "import yfinance as yf\n",
    "import pandas as pd"
   ]
  },
  {
   "cell_type": "code",
   "execution_count": 58,
   "id": "80738b79",
   "metadata": {},
   "outputs": [
    {
     "name": "stdout",
     "output_type": "stream",
     "text": [
      "[*********************100%***********************]  2 of 2 completed\n"
     ]
    }
   ],
   "source": [
    "stock = yf.download(\"TSLA AAPL\", start=\"2019-01-01\", end=\"2019-12-31\")"
   ]
  },
  {
   "cell_type": "code",
   "execution_count": 59,
   "id": "ff7db8cb",
   "metadata": {},
   "outputs": [
    {
     "data": {
      "text/html": [
       "<div>\n",
       "<style scoped>\n",
       "    .dataframe tbody tr th:only-of-type {\n",
       "        vertical-align: middle;\n",
       "    }\n",
       "\n",
       "    .dataframe tbody tr th {\n",
       "        vertical-align: top;\n",
       "    }\n",
       "\n",
       "    .dataframe thead tr th {\n",
       "        text-align: left;\n",
       "    }\n",
       "\n",
       "    .dataframe thead tr:last-of-type th {\n",
       "        text-align: right;\n",
       "    }\n",
       "</style>\n",
       "<table border=\"1\" class=\"dataframe\">\n",
       "  <thead>\n",
       "    <tr>\n",
       "      <th></th>\n",
       "      <th colspan=\"2\" halign=\"left\">Adj Close</th>\n",
       "      <th colspan=\"2\" halign=\"left\">Close</th>\n",
       "      <th colspan=\"2\" halign=\"left\">High</th>\n",
       "      <th colspan=\"2\" halign=\"left\">Low</th>\n",
       "      <th colspan=\"2\" halign=\"left\">Open</th>\n",
       "      <th colspan=\"2\" halign=\"left\">Volume</th>\n",
       "    </tr>\n",
       "    <tr>\n",
       "      <th></th>\n",
       "      <th>AAPL</th>\n",
       "      <th>TSLA</th>\n",
       "      <th>AAPL</th>\n",
       "      <th>TSLA</th>\n",
       "      <th>AAPL</th>\n",
       "      <th>TSLA</th>\n",
       "      <th>AAPL</th>\n",
       "      <th>TSLA</th>\n",
       "      <th>AAPL</th>\n",
       "      <th>TSLA</th>\n",
       "      <th>AAPL</th>\n",
       "      <th>TSLA</th>\n",
       "    </tr>\n",
       "    <tr>\n",
       "      <th>Date</th>\n",
       "      <th></th>\n",
       "      <th></th>\n",
       "      <th></th>\n",
       "      <th></th>\n",
       "      <th></th>\n",
       "      <th></th>\n",
       "      <th></th>\n",
       "      <th></th>\n",
       "      <th></th>\n",
       "      <th></th>\n",
       "      <th></th>\n",
       "      <th></th>\n",
       "    </tr>\n",
       "  </thead>\n",
       "  <tbody>\n",
       "    <tr>\n",
       "      <th>2019-01-02</th>\n",
       "      <td>38.047043</td>\n",
       "      <td>20.674667</td>\n",
       "      <td>39.480000</td>\n",
       "      <td>20.674667</td>\n",
       "      <td>39.712502</td>\n",
       "      <td>21.008667</td>\n",
       "      <td>38.557499</td>\n",
       "      <td>19.920000</td>\n",
       "      <td>38.722500</td>\n",
       "      <td>20.406668</td>\n",
       "      <td>148158800</td>\n",
       "      <td>174879000</td>\n",
       "    </tr>\n",
       "    <tr>\n",
       "      <th>2019-01-03</th>\n",
       "      <td>34.257282</td>\n",
       "      <td>20.024000</td>\n",
       "      <td>35.547501</td>\n",
       "      <td>20.024000</td>\n",
       "      <td>36.430000</td>\n",
       "      <td>20.626667</td>\n",
       "      <td>35.500000</td>\n",
       "      <td>19.825333</td>\n",
       "      <td>35.994999</td>\n",
       "      <td>20.466667</td>\n",
       "      <td>365248800</td>\n",
       "      <td>104478000</td>\n",
       "    </tr>\n",
       "    <tr>\n",
       "      <th>2019-01-04</th>\n",
       "      <td>35.719696</td>\n",
       "      <td>21.179333</td>\n",
       "      <td>37.064999</td>\n",
       "      <td>21.179333</td>\n",
       "      <td>37.137501</td>\n",
       "      <td>21.200001</td>\n",
       "      <td>35.950001</td>\n",
       "      <td>20.181999</td>\n",
       "      <td>36.132500</td>\n",
       "      <td>20.400000</td>\n",
       "      <td>234428400</td>\n",
       "      <td>110911500</td>\n",
       "    </tr>\n",
       "    <tr>\n",
       "      <th>2019-01-07</th>\n",
       "      <td>35.640190</td>\n",
       "      <td>22.330667</td>\n",
       "      <td>36.982498</td>\n",
       "      <td>22.330667</td>\n",
       "      <td>37.207500</td>\n",
       "      <td>22.449333</td>\n",
       "      <td>36.474998</td>\n",
       "      <td>21.183332</td>\n",
       "      <td>37.174999</td>\n",
       "      <td>21.448000</td>\n",
       "      <td>219111200</td>\n",
       "      <td>113268000</td>\n",
       "    </tr>\n",
       "    <tr>\n",
       "      <th>2019-01-08</th>\n",
       "      <td>36.319614</td>\n",
       "      <td>22.356667</td>\n",
       "      <td>37.687500</td>\n",
       "      <td>22.356667</td>\n",
       "      <td>37.955002</td>\n",
       "      <td>22.934000</td>\n",
       "      <td>37.130001</td>\n",
       "      <td>21.801332</td>\n",
       "      <td>37.389999</td>\n",
       "      <td>22.797333</td>\n",
       "      <td>164101200</td>\n",
       "      <td>105127500</td>\n",
       "    </tr>\n",
       "  </tbody>\n",
       "</table>\n",
       "</div>"
      ],
      "text/plain": [
       "            Adj Close                 Close                  High             \\\n",
       "                 AAPL       TSLA       AAPL       TSLA       AAPL       TSLA   \n",
       "Date                                                                           \n",
       "2019-01-02  38.047043  20.674667  39.480000  20.674667  39.712502  21.008667   \n",
       "2019-01-03  34.257282  20.024000  35.547501  20.024000  36.430000  20.626667   \n",
       "2019-01-04  35.719696  21.179333  37.064999  21.179333  37.137501  21.200001   \n",
       "2019-01-07  35.640190  22.330667  36.982498  22.330667  37.207500  22.449333   \n",
       "2019-01-08  36.319614  22.356667  37.687500  22.356667  37.955002  22.934000   \n",
       "\n",
       "                  Low                  Open                Volume             \n",
       "                 AAPL       TSLA       AAPL       TSLA       AAPL       TSLA  \n",
       "Date                                                                          \n",
       "2019-01-02  38.557499  19.920000  38.722500  20.406668  148158800  174879000  \n",
       "2019-01-03  35.500000  19.825333  35.994999  20.466667  365248800  104478000  \n",
       "2019-01-04  35.950001  20.181999  36.132500  20.400000  234428400  110911500  \n",
       "2019-01-07  36.474998  21.183332  37.174999  21.448000  219111200  113268000  \n",
       "2019-01-08  37.130001  21.801332  37.389999  22.797333  164101200  105127500  "
      ]
     },
     "execution_count": 59,
     "metadata": {},
     "output_type": "execute_result"
    }
   ],
   "source": [
    "stock.head()"
   ]
  },
  {
   "cell_type": "code",
   "execution_count": 84,
   "id": "55656738",
   "metadata": {},
   "outputs": [
    {
     "name": "stderr",
     "output_type": "stream",
     "text": [
      "C:\\Users\\rahul\\AppData\\Local\\Temp\\ipykernel_26492\\3812602814.py:1: SettingWithCopyWarning: \n",
      "A value is trying to be set on a copy of a slice from a DataFrame\n",
      "\n",
      "See the caveats in the documentation: https://pandas.pydata.org/pandas-docs/stable/user_guide/indexing.html#returning-a-view-versus-a-copy\n",
      "  stock_close['AAPL'][0] = 0\n"
     ]
    }
   ],
   "source": [
    "stock_close['AAPL'][0] = 0"
   ]
  },
  {
   "cell_type": "code",
   "execution_count": 85,
   "id": "08627dcb",
   "metadata": {},
   "outputs": [
    {
     "data": {
      "text/html": [
       "<div>\n",
       "<style scoped>\n",
       "    .dataframe tbody tr th:only-of-type {\n",
       "        vertical-align: middle;\n",
       "    }\n",
       "\n",
       "    .dataframe tbody tr th {\n",
       "        vertical-align: top;\n",
       "    }\n",
       "\n",
       "    .dataframe thead th {\n",
       "        text-align: right;\n",
       "    }\n",
       "</style>\n",
       "<table border=\"1\" class=\"dataframe\">\n",
       "  <thead>\n",
       "    <tr style=\"text-align: right;\">\n",
       "      <th></th>\n",
       "      <th>AAPL</th>\n",
       "      <th>SPY</th>\n",
       "      <th>TSLA</th>\n",
       "    </tr>\n",
       "    <tr>\n",
       "      <th>Date</th>\n",
       "      <th></th>\n",
       "      <th></th>\n",
       "      <th></th>\n",
       "    </tr>\n",
       "  </thead>\n",
       "  <tbody>\n",
       "    <tr>\n",
       "      <th>2019-01-02</th>\n",
       "      <td>0</td>\n",
       "      <td>250.179993</td>\n",
       "      <td>0</td>\n",
       "    </tr>\n",
       "    <tr>\n",
       "      <th>2019-01-03</th>\n",
       "      <td>0</td>\n",
       "      <td>244.210007</td>\n",
       "      <td>0</td>\n",
       "    </tr>\n",
       "    <tr>\n",
       "      <th>2019-01-04</th>\n",
       "      <td>0</td>\n",
       "      <td>252.389999</td>\n",
       "      <td>0</td>\n",
       "    </tr>\n",
       "    <tr>\n",
       "      <th>2019-01-07</th>\n",
       "      <td>0</td>\n",
       "      <td>254.380005</td>\n",
       "      <td>0</td>\n",
       "    </tr>\n",
       "    <tr>\n",
       "      <th>2019-01-08</th>\n",
       "      <td>0</td>\n",
       "      <td>256.769989</td>\n",
       "      <td>0</td>\n",
       "    </tr>\n",
       "    <tr>\n",
       "      <th>...</th>\n",
       "      <td>...</td>\n",
       "      <td>...</td>\n",
       "      <td>...</td>\n",
       "    </tr>\n",
       "    <tr>\n",
       "      <th>2019-12-23</th>\n",
       "      <td>0</td>\n",
       "      <td>321.220001</td>\n",
       "      <td>0</td>\n",
       "    </tr>\n",
       "    <tr>\n",
       "      <th>2019-12-24</th>\n",
       "      <td>0</td>\n",
       "      <td>321.230011</td>\n",
       "      <td>0</td>\n",
       "    </tr>\n",
       "    <tr>\n",
       "      <th>2019-12-26</th>\n",
       "      <td>0</td>\n",
       "      <td>322.940002</td>\n",
       "      <td>0</td>\n",
       "    </tr>\n",
       "    <tr>\n",
       "      <th>2019-12-27</th>\n",
       "      <td>0</td>\n",
       "      <td>322.859985</td>\n",
       "      <td>0</td>\n",
       "    </tr>\n",
       "    <tr>\n",
       "      <th>2019-12-30</th>\n",
       "      <td>0</td>\n",
       "      <td>321.079987</td>\n",
       "      <td>0</td>\n",
       "    </tr>\n",
       "  </tbody>\n",
       "</table>\n",
       "<p>251 rows × 3 columns</p>\n",
       "</div>"
      ],
      "text/plain": [
       "            AAPL         SPY  TSLA\n",
       "Date                              \n",
       "2019-01-02     0  250.179993     0\n",
       "2019-01-03     0  244.210007     0\n",
       "2019-01-04     0  252.389999     0\n",
       "2019-01-07     0  254.380005     0\n",
       "2019-01-08     0  256.769989     0\n",
       "...          ...         ...   ...\n",
       "2019-12-23     0  321.220001     0\n",
       "2019-12-24     0  321.230011     0\n",
       "2019-12-26     0  322.940002     0\n",
       "2019-12-27     0  322.859985     0\n",
       "2019-12-30     0  321.079987     0\n",
       "\n",
       "[251 rows x 3 columns]"
      ]
     },
     "execution_count": 85,
     "metadata": {},
     "output_type": "execute_result"
    }
   ],
   "source": [
    "stock_close"
   ]
  },
  {
   "cell_type": "code",
   "execution_count": 76,
   "id": "18378e11",
   "metadata": {
    "scrolled": true
   },
   "outputs": [
    {
     "name": "stderr",
     "output_type": "stream",
     "text": [
      "C:\\Users\\rahul\\AppData\\Local\\Temp\\ipykernel_26492\\3162791916.py:1: SettingWithCopyWarning: \n",
      "A value is trying to be set on a copy of a slice from a DataFrame\n",
      "\n",
      "See the caveats in the documentation: https://pandas.pydata.org/pandas-docs/stable/user_guide/indexing.html#returning-a-view-versus-a-copy\n",
      "  stock['Adj Close']['AAPL'][0] = 0\n"
     ]
    }
   ],
   "source": [
    "stock['Adj Close']['AAPL'][0] = 0"
   ]
  },
  {
   "cell_type": "code",
   "execution_count": 111,
   "id": "a1450f39",
   "metadata": {},
   "outputs": [],
   "source": [
    "def scrap_data(stock_names_abv,start_date,end_date):  #date: yyyy-mm-dd\n",
    "    stock = yf.download(stock_names_abv, start=start_date, end=end_date)\n",
    "    stock_close = stock['Close']\n",
    "    if type(stock_close) == pandas.core.series.Series\n",
    "    for i in range(stock_close.shape[0]):\n",
    "        for j in stock_close.columns:\n",
    "            if stock_close[j].isnull()[i] == True:\n",
    "                missing_values_indices.append([i,j])\n",
    "            else:\n",
    "                pass\n",
    "    if len(missing_values_indices) == 0:\n",
    "        pass\n",
    "    else:\n",
    "        for i in missing_values_indices:\n",
    "            stock_close.drop(i[0],axis=0,inplace=True)\n",
    "    return stock_close"
   ]
  },
  {
   "cell_type": "code",
   "execution_count": 112,
   "id": "5d1cc6c0",
   "metadata": {},
   "outputs": [
    {
     "name": "stdout",
     "output_type": "stream",
     "text": [
      "[*********************100%***********************]  1 of 1 completed\n"
     ]
    },
    {
     "ename": "AttributeError",
     "evalue": "'Series' object has no attribute 'columns'",
     "output_type": "error",
     "traceback": [
      "\u001b[1;31m---------------------------------------------------------------------------\u001b[0m",
      "\u001b[1;31mAttributeError\u001b[0m                            Traceback (most recent call last)",
      "Input \u001b[1;32mIn [112]\u001b[0m, in \u001b[0;36m<cell line: 1>\u001b[1;34m()\u001b[0m\n\u001b[1;32m----> 1\u001b[0m \u001b[43mscrap_data\u001b[49m\u001b[43m(\u001b[49m\u001b[38;5;124;43m\"\u001b[39;49m\u001b[38;5;124;43mTSLA\u001b[39;49m\u001b[38;5;124;43m\"\u001b[39;49m\u001b[43m,\u001b[49m\u001b[38;5;124;43m\"\u001b[39;49m\u001b[38;5;124;43m2020-01-23\u001b[39;49m\u001b[38;5;124;43m\"\u001b[39;49m\u001b[43m,\u001b[49m\u001b[38;5;124;43m\"\u001b[39;49m\u001b[38;5;124;43m2020-02-23\u001b[39;49m\u001b[38;5;124;43m\"\u001b[39;49m\u001b[43m)\u001b[49m\n",
      "Input \u001b[1;32mIn [111]\u001b[0m, in \u001b[0;36mscrap_data\u001b[1;34m(stock_names_abv, start_date, end_date)\u001b[0m\n\u001b[0;32m      3\u001b[0m stock_close \u001b[38;5;241m=\u001b[39m stock[\u001b[38;5;124m'\u001b[39m\u001b[38;5;124mClose\u001b[39m\u001b[38;5;124m'\u001b[39m]\n\u001b[0;32m      4\u001b[0m \u001b[38;5;28;01mfor\u001b[39;00m i \u001b[38;5;129;01min\u001b[39;00m \u001b[38;5;28mrange\u001b[39m(stock_close\u001b[38;5;241m.\u001b[39mshape[\u001b[38;5;241m0\u001b[39m]):\n\u001b[1;32m----> 5\u001b[0m     \u001b[38;5;28;01mfor\u001b[39;00m j \u001b[38;5;129;01min\u001b[39;00m \u001b[43mstock_close\u001b[49m\u001b[38;5;241;43m.\u001b[39;49m\u001b[43mcolumns\u001b[49m:\n\u001b[0;32m      6\u001b[0m         \u001b[38;5;28;01mif\u001b[39;00m stock_close[j]\u001b[38;5;241m.\u001b[39misnull()[i] \u001b[38;5;241m==\u001b[39m \u001b[38;5;28;01mTrue\u001b[39;00m:\n\u001b[0;32m      7\u001b[0m             missing_values_indices\u001b[38;5;241m.\u001b[39mappend([i,j])\n",
      "File \u001b[1;32m~\\anaconda3\\lib\\site-packages\\pandas\\core\\generic.py:5575\u001b[0m, in \u001b[0;36mNDFrame.__getattr__\u001b[1;34m(self, name)\u001b[0m\n\u001b[0;32m   5568\u001b[0m \u001b[38;5;28;01mif\u001b[39;00m (\n\u001b[0;32m   5569\u001b[0m     name \u001b[38;5;129;01mnot\u001b[39;00m \u001b[38;5;129;01min\u001b[39;00m \u001b[38;5;28mself\u001b[39m\u001b[38;5;241m.\u001b[39m_internal_names_set\n\u001b[0;32m   5570\u001b[0m     \u001b[38;5;129;01mand\u001b[39;00m name \u001b[38;5;129;01mnot\u001b[39;00m \u001b[38;5;129;01min\u001b[39;00m \u001b[38;5;28mself\u001b[39m\u001b[38;5;241m.\u001b[39m_metadata\n\u001b[0;32m   5571\u001b[0m     \u001b[38;5;129;01mand\u001b[39;00m name \u001b[38;5;129;01mnot\u001b[39;00m \u001b[38;5;129;01min\u001b[39;00m \u001b[38;5;28mself\u001b[39m\u001b[38;5;241m.\u001b[39m_accessors\n\u001b[0;32m   5572\u001b[0m     \u001b[38;5;129;01mand\u001b[39;00m \u001b[38;5;28mself\u001b[39m\u001b[38;5;241m.\u001b[39m_info_axis\u001b[38;5;241m.\u001b[39m_can_hold_identifiers_and_holds_name(name)\n\u001b[0;32m   5573\u001b[0m ):\n\u001b[0;32m   5574\u001b[0m     \u001b[38;5;28;01mreturn\u001b[39;00m \u001b[38;5;28mself\u001b[39m[name]\n\u001b[1;32m-> 5575\u001b[0m \u001b[38;5;28;01mreturn\u001b[39;00m \u001b[38;5;28;43mobject\u001b[39;49m\u001b[38;5;241;43m.\u001b[39;49m\u001b[38;5;21;43m__getattribute__\u001b[39;49m\u001b[43m(\u001b[49m\u001b[38;5;28;43mself\u001b[39;49m\u001b[43m,\u001b[49m\u001b[43m \u001b[49m\u001b[43mname\u001b[49m\u001b[43m)\u001b[49m\n",
      "\u001b[1;31mAttributeError\u001b[0m: 'Series' object has no attribute 'columns'"
     ]
    }
   ],
   "source": [
    "scrap_data(\"TSLA\",\"2019-01-01\",\"2020-12-31\")"
   ]
  },
  {
   "cell_type": "code",
   "execution_count": 88,
   "id": "d9111989",
   "metadata": {
    "scrolled": true
   },
   "outputs": [],
   "source": [
    "for i in range(stock_close.shape[0]):\n",
    "    for j in range(stock_close.shape[1]):\n",
    "        if stock.iloc[i,j] == True:\n",
    "            missing_values_indices.append([i,j])\n",
    "        else:\n",
    "            pass"
   ]
  },
  {
   "cell_type": "code",
   "execution_count": 128,
   "id": "d46798eb",
   "metadata": {},
   "outputs": [
    {
     "name": "stdout",
     "output_type": "stream",
     "text": [
      "no\n"
     ]
    }
   ],
   "source": [
    "if type(stock_close['AAPL']) == \"pandas.core.series.Series\":\n",
    "    print(\"yes\")\n",
    "else:\n",
    "    print(\"no\")"
   ]
  },
  {
   "cell_type": "code",
   "execution_count": 124,
   "id": "4864b9f9",
   "metadata": {},
   "outputs": [
    {
     "data": {
      "text/plain": [
       "pandas.core.series.Series"
      ]
     },
     "execution_count": 124,
     "metadata": {},
     "output_type": "execute_result"
    }
   ],
   "source": [
    "type(stock_close['AAPL'])"
   ]
  }
 ],
 "metadata": {
  "kernelspec": {
   "display_name": "Python 3 (ipykernel)",
   "language": "python",
   "name": "python3"
  },
  "language_info": {
   "codemirror_mode": {
    "name": "ipython",
    "version": 3
   },
   "file_extension": ".py",
   "mimetype": "text/x-python",
   "name": "python",
   "nbconvert_exporter": "python",
   "pygments_lexer": "ipython3",
   "version": "3.9.12"
  }
 },
 "nbformat": 4,
 "nbformat_minor": 5
}
